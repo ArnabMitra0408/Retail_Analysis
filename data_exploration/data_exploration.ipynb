{
 "cells": [
  {
   "cell_type": "code",
   "execution_count": 1,
   "metadata": {},
   "outputs": [],
   "source": [
    "import pandas as pd\n",
    "\n",
    "data_path='../raw_data/new_retail_data.csv'\n",
    "raw_data=pd.read_csv(data_path,usecols=['Transaction_ID', 'Customer_ID', 'Name', 'Email', 'Phone', 'Address',\n",
    "       'City', 'State', 'Zipcode', 'Country', 'Age', 'Gender', 'Income',\n",
    "       'Customer_Segment', 'Date','Time', 'Total_Purchases',\n",
    "       'Amount', 'Total_Amount', 'Product_Category', 'Product_Brand',\n",
    "       'Product_Type', 'Feedback', 'Shipping_Method', 'Payment_Method',\n",
    "       'Order_Status', 'Ratings', 'products'])"
   ]
  },
  {
   "cell_type": "code",
   "execution_count": 2,
   "metadata": {},
   "outputs": [
    {
     "name": "stdout",
     "output_type": "stream",
     "text": [
      "Index(['Transaction_ID', 'Customer_ID', 'Name', 'Email', 'Phone', 'Address',\n",
      "       'City', 'State', 'Zipcode', 'Country', 'Age', 'Gender', 'Income',\n",
      "       'Customer_Segment', 'Date', 'Time', 'Total_Purchases', 'Amount',\n",
      "       'Total_Amount', 'Product_Category', 'Product_Brand', 'Product_Type',\n",
      "       'Feedback', 'Shipping_Method', 'Payment_Method', 'Order_Status',\n",
      "       'Ratings', 'products'],\n",
      "      dtype='object')\n"
     ]
    },
    {
     "data": {
      "text/plain": [
       "0          9/18/2023\n",
       "1         12/31/2023\n",
       "2          4/26/2023\n",
       "3           5/8/2023\n",
       "4          1/10/2024\n",
       "             ...    \n",
       "302005     1/20/2024\n",
       "302006    12/28/2023\n",
       "302007     2/27/2024\n",
       "302008      9/3/2023\n",
       "302009      1/8/2024\n",
       "Name: Date, Length: 302010, dtype: object"
      ]
     },
     "execution_count": 2,
     "metadata": {},
     "output_type": "execute_result"
    }
   ],
   "source": [
    "print(raw_data.columns)\n",
    "raw_data['Date']"
   ]
  },
  {
   "cell_type": "code",
   "execution_count": 14,
   "metadata": {},
   "outputs": [
    {
     "data": {
      "text/plain": [
       "Transaction_ID      333\n",
       "Customer_ID         308\n",
       "Name                382\n",
       "Email               347\n",
       "Phone               362\n",
       "Address             315\n",
       "City                248\n",
       "State               281\n",
       "Zipcode             340\n",
       "Country             271\n",
       "Age                 173\n",
       "Gender              317\n",
       "Income              290\n",
       "Customer_Segment    215\n",
       "Date                359\n",
       "Time                350\n",
       "Total_Purchases     361\n",
       "Amount              357\n",
       "Total_Amount        350\n",
       "Product_Category    283\n",
       "Product_Brand       281\n",
       "Product_Type          0\n",
       "Feedback            184\n",
       "Shipping_Method     337\n",
       "Payment_Method      297\n",
       "Order_Status        235\n",
       "Ratings             184\n",
       "products              0\n",
       "dtype: int64"
      ]
     },
     "execution_count": 14,
     "metadata": {},
     "output_type": "execute_result"
    }
   ],
   "source": [
    "raw_data.isna().sum()"
   ]
  }
 ],
 "metadata": {
  "kernelspec": {
   "display_name": "data_science",
   "language": "python",
   "name": "python3"
  },
  "language_info": {
   "codemirror_mode": {
    "name": "ipython",
    "version": 3
   },
   "file_extension": ".py",
   "mimetype": "text/x-python",
   "name": "python",
   "nbconvert_exporter": "python",
   "pygments_lexer": "ipython3",
   "version": "3.12.0"
  }
 },
 "nbformat": 4,
 "nbformat_minor": 2
}
